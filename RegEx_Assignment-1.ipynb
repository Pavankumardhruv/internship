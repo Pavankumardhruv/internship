{
 "cells": [
  {
   "cell_type": "markdown",
   "id": "ff2a0568",
   "metadata": {},
   "source": [
    "1. Write a Python program to check that a string contains only a certain set of characters (in this case a-z, A-Z and 0-9)."
   ]
  },
  {
   "cell_type": "code",
   "execution_count": 2,
   "id": "aed32126",
   "metadata": {},
   "outputs": [
    {
     "name": "stdout",
     "output_type": "stream",
     "text": [
      "['B', 'a', 't', 'm', 'a', 'n', 'i', 's', 't', 'h', 'e', 'g', 'r', 'e', 'a', 't', 'e', 's', 't', 's', 'u', 'p', 'e', 'r', 'h', 'e', 'r', 'o', 'a', 'l', 'i', 'v', 'e', '1', '3', '4', '6', '5', '4', '7', 'r', 'u', '6', '7']\n"
     ]
    }
   ],
   "source": [
    "import regex as re\n",
    "\n",
    "string1 = \"Batman is the greatest super hero alive 1346547ru67.\"\n",
    "pattern = r\"[0-9A-Za-z]\"\n",
    "result = re.findall(pattern,string1)\n",
    "print(result)"
   ]
  },
  {
   "cell_type": "markdown",
   "id": "cd171c78",
   "metadata": {},
   "source": [
    "2. Function in python that matches a string that has an a followed by zero or more b's\n"
   ]
  },
  {
   "cell_type": "code",
   "execution_count": 5,
   "id": "c84ddb59",
   "metadata": {},
   "outputs": [
    {
     "data": {
      "text/plain": [
       "['Pb', 'Pb']"
      ]
     },
     "execution_count": 5,
     "metadata": {},
     "output_type": "execute_result"
    }
   ],
   "source": [
    "import regex as re\n",
    "\n",
    "txt= \"Pb comics is Pb Great.\"\n",
    "pattern = r'Pb*'\n",
    "result = re.findall(pattern,txt)\n",
    "result\n"
   ]
  },
  {
   "cell_type": "markdown",
   "id": "12f44150",
   "metadata": {},
   "source": [
    "3. Function in python that matches a string that has an a followed by one or more b's\n"
   ]
  },
  {
   "cell_type": "code",
   "execution_count": 7,
   "id": "d0a366d3",
   "metadata": {},
   "outputs": [
    {
     "data": {
      "text/plain": [
       "['ab', 'ab', 'ab']"
      ]
     },
     "execution_count": 7,
     "metadata": {},
     "output_type": "execute_result"
    }
   ],
   "source": [
    "import regex as re\n",
    "\n",
    "txt= \"Pillow is the abraham pabran jabram\"\n",
    "pattern = r'ab+'\n",
    "result = re.findall(pattern,txt)\n",
    "result"
   ]
  },
  {
   "cell_type": "markdown",
   "id": "72b378a4",
   "metadata": {},
   "source": [
    "4. Python and use RegEx that matches a string that has an a followed by zero or one 'b'.\n"
   ]
  },
  {
   "cell_type": "code",
   "execution_count": 8,
   "id": "6a250329",
   "metadata": {},
   "outputs": [
    {
     "data": {
      "text/plain": [
       "['a', 'a', 'a', 'ab', 'a', 'ab', 'a']"
      ]
     },
     "execution_count": 8,
     "metadata": {},
     "output_type": "execute_result"
    }
   ],
   "source": [
    "import regex as re\n",
    "\n",
    "txt= \"Naruto I have a big abrew bag in the eabrat.\"\n",
    "pattern = r'ab?'\n",
    "result = re.findall(pattern,txt)\n",
    "result"
   ]
  },
  {
   "cell_type": "markdown",
   "id": "73ce1eda",
   "metadata": {},
   "source": [
    "5. Python program that matches a string that has an a followed by three 'b'.\n"
   ]
  },
  {
   "cell_type": "code",
   "execution_count": 10,
   "id": "bdfd904a",
   "metadata": {},
   "outputs": [
    {
     "data": {
      "text/plain": [
       "['bbbadwag', 'bbbbahl']"
      ]
     },
     "execution_count": 10,
     "metadata": {},
     "output_type": "execute_result"
    }
   ],
   "source": [
    "import regex as re\n",
    "\n",
    "txt = \"bbbadwag wil badng to the bbbbahl\"\n",
    "pattern = r'b{3}\\w+'\n",
    "result = re.findall(pattern,txt)\n",
    "result"
   ]
  },
  {
   "cell_type": "markdown",
   "id": "ce4ccc5c",
   "metadata": {},
   "source": [
    "6. Regular expression in Python to split a string into uppercase letters.\n"
   ]
  },
  {
   "cell_type": "code",
   "execution_count": 11,
   "id": "573f12e4",
   "metadata": {},
   "outputs": [
    {
     "name": "stdout",
     "output_type": "stream",
     "text": [
      "['', 'Importance', 'Of', 'Naruto', 'Uzumaki', 'In', 'Anime']\n"
     ]
    }
   ],
   "source": [
    "import regex as re\n",
    "\n",
    "text =\"ImportanceOfNarutoUzumakiInAnime\"\n",
    "result = re.split(r'(?=[A-Z])', text)\n",
    "print(result)"
   ]
  },
  {
   "cell_type": "markdown",
   "id": "5797bdf2",
   "metadata": {},
   "source": [
    "7. Write a Python program that matches a string that has an a followed by two to three 'b'.\n"
   ]
  },
  {
   "cell_type": "code",
   "execution_count": 14,
   "id": "51cb286f",
   "metadata": {},
   "outputs": [
    {
     "data": {
      "text/plain": [
       "['bbbadwag', 'bbadng', 'bbbbahl']"
      ]
     },
     "execution_count": 14,
     "metadata": {},
     "output_type": "execute_result"
    }
   ],
   "source": [
    "import regex as re\n",
    "\n",
    "txt = \"bbbadwag wil bbadng to the bbbbahl on the abbbrdod\"\n",
    "pattern = r'\\bb{2,3}\\w+'\n",
    "result = re.findall(pattern,txt)\n",
    "result\n"
   ]
  },
  {
   "cell_type": "markdown",
   "id": "527771e0",
   "metadata": {},
   "source": [
    "8. Python program to find sequences of lowercase letters joined with a underscore.\n"
   ]
  },
  {
   "cell_type": "code",
   "execution_count": 17,
   "id": "8e3aa726",
   "metadata": {},
   "outputs": [
    {
     "data": {
      "text/plain": [
       "['r_', 'u_', 'c_', 'd_', 'e_', 'd_']"
      ]
     },
     "execution_count": 17,
     "metadata": {},
     "output_type": "execute_result"
    }
   ],
   "source": [
    "import regex as re\n",
    "\n",
    "text =\"r_u_c_d_e_K_D_C_d_e,\"\n",
    "pattern = r'[a-z]\\w'\n",
    "result = re.findall(pattern, text)\n",
    "result"
   ]
  },
  {
   "cell_type": "markdown",
   "id": "5d190b81",
   "metadata": {},
   "source": [
    "9. Python program that matches a string that has an 'a' followed by anything, ending in 'b'.\n"
   ]
  },
  {
   "cell_type": "code",
   "execution_count": 21,
   "id": "f8d343f5",
   "metadata": {},
   "outputs": [
    {
     "data": {
      "text/plain": [
       "<regex.Match object; span=(0, 6), match='AirBnb'>"
      ]
     },
     "execution_count": 21,
     "metadata": {},
     "output_type": "execute_result"
    }
   ],
   "source": [
    "import regex as re\n",
    "\n",
    "\n",
    "text =\"AirBnb is the coolest place to have fun\"\n",
    "pattern = \"A....b\"\n",
    "result = re.search(pattern, text)\n",
    "result"
   ]
  },
  {
   "cell_type": "markdown",
   "id": "25d01749",
   "metadata": {},
   "source": [
    "10. Write a Python program that matches a word at the beginning of a string.\n"
   ]
  },
  {
   "cell_type": "code",
   "execution_count": 22,
   "id": "7783fa8a",
   "metadata": {},
   "outputs": [
    {
     "data": {
      "text/plain": [
       "['AirBnb']"
      ]
     },
     "execution_count": 22,
     "metadata": {},
     "output_type": "execute_result"
    }
   ],
   "source": [
    "import regex as re\n",
    "\n",
    "txt = \"AirBnb is the coolest place to have fun around the world\"\n",
    "pattern = r\"^AirBnb\"\n",
    "result = re.findall(pattern,txt)\n",
    "result\n"
   ]
  },
  {
   "cell_type": "markdown",
   "id": "5cb9c6fa",
   "metadata": {},
   "source": [
    "11. Write a Python program to match a string that contains only upper and lowercase letters, numbers, and underscores.\n",
    "\n"
   ]
  },
  {
   "cell_type": "code",
   "execution_count": 23,
   "id": "18f1457e",
   "metadata": {},
   "outputs": [
    {
     "data": {
      "text/plain": [
       "['100bullets', 'fired', '97th', 'floor', 'of_', 'the', 'NEXUS', 'MALL']"
      ]
     },
     "execution_count": 23,
     "metadata": {},
     "output_type": "execute_result"
    }
   ],
   "source": [
    "text = \"100bullets fired @ 97th floor #$% of_ the NEXUS MALL\"\n",
    "pattern = r'\\b[a-zA-Z0-9_]\\w+'\n",
    "result = re.findall(pattern, text)\n",
    "result"
   ]
  },
  {
   "cell_type": "markdown",
   "id": "ef8a4831",
   "metadata": {},
   "source": [
    "12. Write a Python program where a string will start with a specific number.\n"
   ]
  },
  {
   "cell_type": "code",
   "execution_count": 25,
   "id": "814ebcf9",
   "metadata": {},
   "outputs": [
    {
     "data": {
      "text/plain": [
       "['100bullets']"
      ]
     },
     "execution_count": 25,
     "metadata": {},
     "output_type": "execute_result"
    }
   ],
   "source": [
    "txt= \"100bullets fired @ 97th floor #$% of_ the NEXUS MALL\"\n",
    "pattern = r'^[100]\\w+'\n",
    "result= re.findall(pattern,txt)\n",
    "result"
   ]
  },
  {
   "cell_type": "markdown",
   "id": "ac4a2caf",
   "metadata": {},
   "source": [
    "13. Write a Python program to remove leading zeros from an IP address"
   ]
  },
  {
   "cell_type": "code",
   "execution_count": 26,
   "id": "b99247da",
   "metadata": {},
   "outputs": [
    {
     "data": {
      "text/plain": [
       "'192.168.  1. 1 '"
      ]
     },
     "execution_count": 26,
     "metadata": {},
     "output_type": "execute_result"
    }
   ],
   "source": [
    "text = \"192.168.001.010\"\n",
    "pattern = r'[0]'\n",
    "result = re.sub(pattern,\" \",text)\n",
    "result"
   ]
  },
  {
   "cell_type": "markdown",
   "id": "f5815857",
   "metadata": {},
   "source": [
    "14. Regular expression in python to match a date string in the form of Month name followed by day number and year stored in a text file.\n",
    "\n"
   ]
  },
  {
   "cell_type": "code",
   "execution_count": 27,
   "id": "36223878",
   "metadata": {},
   "outputs": [
    {
     "data": {
      "text/plain": [
       "['August 15th 1947']"
      ]
     },
     "execution_count": 27,
     "metadata": {},
     "output_type": "execute_result"
    }
   ],
   "source": [
    "import regex as re\n",
    "\n",
    "text = \"On August 15th 1947 that India was declared independent from British colonialism, and the reins of control were handed over to the leaders of the Country\"\n",
    "pattern = r'\\b([A-Za-z]+ \\d{1,3}(?:st|nd|rd|th)? \\d{4})'\n",
    "result = re.findall(pattern,text)\n",
    "result"
   ]
  },
  {
   "cell_type": "markdown",
   "id": "73399e82",
   "metadata": {},
   "source": [
    "15. Write a Python program to search some literals strings in a string. Go to the editor\n"
   ]
  },
  {
   "cell_type": "code",
   "execution_count": 28,
   "id": "29583588",
   "metadata": {},
   "outputs": [
    {
     "data": {
      "text/plain": [
       "['fox', 'dog']"
      ]
     },
     "execution_count": 28,
     "metadata": {},
     "output_type": "execute_result"
    }
   ],
   "source": [
    "text = 'The quick brown fox jumps over the lazy dog.'\n",
    "pattern = r'\\b[f.x,d.g,h...e]\\w+'\n",
    "result= re.findall(pattern,text)\n",
    "result"
   ]
  },
  {
   "cell_type": "markdown",
   "id": "4bfab74d",
   "metadata": {},
   "source": [
    "16. Python program to search a literals string in a string and also find the location within the original string where the pattern occurs\n"
   ]
  },
  {
   "cell_type": "code",
   "execution_count": 29,
   "id": "e6a39ce8",
   "metadata": {},
   "outputs": [
    {
     "data": {
      "text/plain": [
       "<regex.Match object; span=(16, 19), match='fox'>"
      ]
     },
     "execution_count": 29,
     "metadata": {},
     "output_type": "execute_result"
    }
   ],
   "source": [
    "import regex as re\n",
    "txt = 'The quick brown fox jumps over the lazy dog.'\n",
    "pattern = r'[f.x]\\w+'\n",
    "result = re.search(pattern, text)\n",
    "result"
   ]
  },
  {
   "cell_type": "markdown",
   "id": "61c7ff45",
   "metadata": {},
   "source": [
    "17. Python program to find the substrings within a string.\n",
    "\n"
   ]
  },
  {
   "cell_type": "code",
   "execution_count": 30,
   "id": "69ef5670",
   "metadata": {},
   "outputs": [
    {
     "data": {
      "text/plain": [
       "['ex', 'er', 'es', 'ex', 'er', 'es', 'ex', 'er', 'es']"
      ]
     },
     "execution_count": 30,
     "metadata": {},
     "output_type": "execute_result"
    }
   ],
   "source": [
    "import regex as re\n",
    "txt = 'Python exercises, PHP exercises, C# exercises'\n",
    "pattern =  r'[e.*]\\w'\n",
    "result = re.findall(pattern,txt)\n",
    "result"
   ]
  },
  {
   "cell_type": "markdown",
   "id": "02e5c95d",
   "metadata": {},
   "source": [
    "18. Python program to find the occurrence and position of the substrings within a string.\n"
   ]
  },
  {
   "cell_type": "code",
   "execution_count": 31,
   "id": "c787af48",
   "metadata": {},
   "outputs": [
    {
     "data": {
      "text/plain": [
       "<regex.Match object; span=(33, 39), match='hwards'>"
      ]
     },
     "execution_count": 31,
     "metadata": {},
     "output_type": "execute_result"
    }
   ],
   "source": [
    "import regex as re\n",
    "text = \"Six slick swans swam swiftly southwards.\"\n",
    "pattern = r'[h..]\\w+'\n",
    "result = re.search(pattern,text)\n",
    "result"
   ]
  },
  {
   "cell_type": "markdown",
   "id": "90a52f6b",
   "metadata": {},
   "source": [
    "19. Python program to convert a date of yyyy-mm-dd format to dd-mm-yyyy format.\n"
   ]
  },
  {
   "cell_type": "code",
   "execution_count": 32,
   "id": "85f4d466",
   "metadata": {},
   "outputs": [
    {
     "data": {
      "text/plain": [
       "'13-08-2023'"
      ]
     },
     "execution_count": 32,
     "metadata": {},
     "output_type": "execute_result"
    }
   ],
   "source": [
    "import regex as re\n",
    "\n",
    "date = \"2023-08-13\"\n",
    "pattern = r'(\\d{4})-(\\d{2})-(\\d{2})'\n",
    "result = re.sub(pattern, r'\\3-\\2-\\1', date)\n",
    "result"
   ]
  },
  {
   "cell_type": "markdown",
   "id": "f05eb14f",
   "metadata": {},
   "source": [
    "20. Python program to find all words starting with 'a' or 'e' in a given string.\n",
    "\n"
   ]
  },
  {
   "cell_type": "code",
   "execution_count": 33,
   "id": "eeaf531a",
   "metadata": {},
   "outputs": [
    {
     "data": {
      "text/plain": [
       "['arthur', 'evans', 'at', 'ester', 'early']"
      ]
     },
     "execution_count": 33,
     "metadata": {},
     "output_type": "execute_result"
    }
   ],
   "source": [
    "import regex as re\n",
    "txt = \"arthur & evans went to play basketball at ester house in the early noon\"\n",
    "pattern =  r'\\b[aAeE]\\w+'\n",
    "result = re.findall(pattern,txt)\n",
    "result"
   ]
  },
  {
   "cell_type": "markdown",
   "id": "614379bc",
   "metadata": {},
   "source": [
    "21. Write a Python program to separate and print the numbers and their position of a given string.\n"
   ]
  },
  {
   "cell_type": "code",
   "execution_count": 36,
   "id": "fc072303",
   "metadata": {},
   "outputs": [
    {
     "name": "stdout",
     "output_type": "stream",
     "text": [
      "Number: 5, Position: (0, 1)\n",
      "Number: 3, Position: (42, 43)\n"
     ]
    }
   ],
   "source": [
    "import re\n",
    "\n",
    "txt = \"5 players injured at lords stadium of the 3rd Match\"\n",
    "matches = re.finditer(r'\\d+', txt)\n",
    "for match in matches:\n",
    "    number = match.group()\n",
    "    position = match.span()\n",
    "    print(f\"Number: {number}, Position: {position}\")"
   ]
  },
  {
   "cell_type": "markdown",
   "id": "e43789f0",
   "metadata": {},
   "source": [
    "22. Write a regular expression in python program to extract maximum numeric value from a string\n"
   ]
  },
  {
   "cell_type": "code",
   "execution_count": 37,
   "id": "b3f86f51",
   "metadata": {},
   "outputs": [
    {
     "data": {
      "text/plain": [
       "['389753738']"
      ]
     },
     "execution_count": 37,
     "metadata": {},
     "output_type": "execute_result"
    }
   ],
   "source": [
    "import regex as re\n",
    "\n",
    "txt = \"Jahnum hit pavan #389753738 times\"\n",
    "pattern = r'\\d+'\n",
    "result = re.findall(pattern, txt)\n",
    "result"
   ]
  },
  {
   "cell_type": "markdown",
   "id": "355f875c",
   "metadata": {},
   "source": [
    "23. Regex in Python to put spaces between words starting with capital letters\n"
   ]
  },
  {
   "cell_type": "code",
   "execution_count": 38,
   "id": "3f054a70",
   "metadata": {},
   "outputs": [
    {
     "name": "stdout",
     "output_type": "stream",
     "text": [
      "['', 'Christiano', 'Ronaldo', 'Isthe', 'Greatest', 'Of', 'Alltime']\n"
     ]
    }
   ],
   "source": [
    "import regex as re\n",
    "\n",
    "text =\"ChristianoRonaldoIstheGreatestOfAlltime\"\n",
    "result = re.split(r'(?=[A-Z])', text)\n",
    "print(result)"
   ]
  },
  {
   "cell_type": "markdown",
   "id": "9bf45dfe",
   "metadata": {},
   "source": [
    "24. Python regex to find sequences of one upper case letter followed by lower case letters\n"
   ]
  },
  {
   "cell_type": "code",
   "execution_count": 40,
   "id": "787576c8",
   "metadata": {},
   "outputs": [
    {
     "data": {
      "text/plain": [
       "['The', 'Lazy', 'Bee', 'Leaves', 'Larvae']"
      ]
     },
     "execution_count": 40,
     "metadata": {},
     "output_type": "execute_result"
    }
   ],
   "source": [
    "import regex as re\n",
    "\n",
    "text = \"The Lazy Bee eats Leaves over the Larvae\"\n",
    "pattern = r'[A-Z][a-z]+'\n",
    "result = re.findall(pattern, text)\n",
    "result"
   ]
  },
  {
   "cell_type": "markdown",
   "id": "be2d7a2a",
   "metadata": {},
   "source": [
    "25. Python program to remove duplicate words from Sentence using Regular Expression"
   ]
  },
  {
   "cell_type": "code",
   "execution_count": 41,
   "id": "15f50c93",
   "metadata": {},
   "outputs": [
    {
     "data": {
      "text/plain": [
       "'The  Lazy Bee eats  Leaves over  Larvae  in the  House'"
      ]
     },
     "execution_count": 41,
     "metadata": {},
     "output_type": "execute_result"
    }
   ],
   "source": [
    "import regex as re\n",
    "\n",
    "txt = \"The Lazy Lazy Bee eats Leaves Leaves over the Larvae in in the House House\"\n",
    "pattern = r'\\b(\\w+)\\b\\s+(?=.*\\b\\1\\b)'\n",
    "result =re.sub(pattern,\" \" , txt)\n",
    "result"
   ]
  },
  {
   "cell_type": "markdown",
   "id": "9ec37f63",
   "metadata": {},
   "source": [
    "26. python program using RegEx to accept string ending with alphanumeric character.\n"
   ]
  },
  {
   "cell_type": "code",
   "execution_count": 42,
   "id": "8ddb3f4f",
   "metadata": {},
   "outputs": [
    {
     "data": {
      "text/plain": [
       "<regex.Match object; span=(0, 13), match='Hello LazyCat'>"
      ]
     },
     "execution_count": 42,
     "metadata": {},
     "output_type": "execute_result"
    }
   ],
   "source": [
    "import regex as re\n",
    "\n",
    "text = \"Lazy3983\"\n",
    "text1 = \"Hello LazyCat\"\n",
    "pattern = r'^.*[a-zA-Z0-9]$'\n",
    "result = re.match(pattern,text)\n",
    "result1 = re.match(pattern, text1)\n",
    "result\n",
    "result1"
   ]
  },
  {
   "cell_type": "markdown",
   "id": "dbfa6d66",
   "metadata": {},
   "source": [
    "27. Write a python program using RegEx to extract the hashtags."
   ]
  },
  {
   "cell_type": "code",
   "execution_count": 43,
   "id": "bb87989a",
   "metadata": {},
   "outputs": [
    {
     "data": {
      "text/plain": [
       "['#Doltiwal', '#xyzabc', '#Demonetization']"
      ]
     },
     "execution_count": 43,
     "metadata": {},
     "output_type": "execute_result"
    }
   ],
   "source": [
    "text = \"RT @kapil_kausik: #Doltiwal I mean #xyzabc is hurt by #Demonetization as the same has rendered USELESS <ed><U+00A0><U+00BD><ed><U+00B1><U+0089> acquired funds No wo\"\n",
    "pattern = \"[#..............]\\w+\"\n",
    "result = re.findall(pattern,text)\n",
    "result\n",
    "#Output: ['#Doltiwal', '#xyzabc', '#Demonetization']"
   ]
  },
  {
   "cell_type": "markdown",
   "id": "2765b93a",
   "metadata": {},
   "source": [
    "28. Python program using RegEx to remove <U+..> like symbols."
   ]
  },
  {
   "cell_type": "code",
   "execution_count": 44,
   "id": "13dd45a3",
   "metadata": {},
   "outputs": [
    {
     "data": {
      "text/plain": [
       "'@Jags123456 Bharat band on 28??<ed>  <ed>  Those who  are protesting #demonetization  are all different party leaders'"
      ]
     },
     "execution_count": 44,
     "metadata": {},
     "output_type": "execute_result"
    }
   ],
   "source": [
    "text = \"@Jags123456 Bharat band on 28??<ed><U+00A0><U+00BD><ed><U+00B8><U+0082>Those who  are protesting #demonetization  are all different party leaders\"\n",
    "pattern = \"<U+.....>\"\n",
    "result = re.sub(pattern,\" \",text)\n",
    "result\n",
    "#Output: @Jags123456 Bharat band on 28??<ed><ed>Those who  are protesting #demonetization  are all different party leaders\n"
   ]
  },
  {
   "cell_type": "markdown",
   "id": "451986f5",
   "metadata": {},
   "source": [
    "29. Python program to extract dates from the text stored in the text file.\n",
    "\n"
   ]
  },
  {
   "cell_type": "code",
   "execution_count": 45,
   "id": "343f4b3b",
   "metadata": {},
   "outputs": [
    {
     "data": {
      "text/plain": [
       "['12-09-1992', '15-12-1999']"
      ]
     },
     "execution_count": 45,
     "metadata": {},
     "output_type": "execute_result"
    }
   ],
   "source": [
    "import regex as re\n",
    "\n",
    "txt= 'Ron was born on 12-09-1992 and he was admitted to school 15-12-1999.'\n",
    "pattern = r'\\d{2}-\\d{2}-\\d{4}'\n",
    "result = re.findall(pattern, txt)\n",
    "result"
   ]
  },
  {
   "cell_type": "markdown",
   "id": "38a22c5c",
   "metadata": {},
   "source": [
    "30. Python program to replace all occurrences of a space, comma, or dot with a colon.\n",
    "\n"
   ]
  },
  {
   "cell_type": "code",
   "execution_count": 46,
   "id": "30aa2e4b",
   "metadata": {},
   "outputs": [
    {
     "name": "stdout",
     "output_type": "stream",
     "text": [
      "Python:Exercises::PHP:exercises:\n"
     ]
    }
   ],
   "source": [
    "import regex as re\n",
    "text= 'Python Exercises, PHP exercises.'\n",
    "x = re.sub(r'[ ,.]', ':', text)\n",
    "print(x)\n",
    "#Output: Python:Exercises::PHP:exercises:"
   ]
  },
  {
   "cell_type": "code",
   "execution_count": null,
   "id": "a5eda0e3",
   "metadata": {},
   "outputs": [],
   "source": []
  }
 ],
 "metadata": {
  "kernelspec": {
   "display_name": "Python 3 (ipykernel)",
   "language": "python",
   "name": "python3"
  },
  "language_info": {
   "codemirror_mode": {
    "name": "ipython",
    "version": 3
   },
   "file_extension": ".py",
   "mimetype": "text/x-python",
   "name": "python",
   "nbconvert_exporter": "python",
   "pygments_lexer": "ipython3",
   "version": "3.9.13"
  }
 },
 "nbformat": 4,
 "nbformat_minor": 5
}
